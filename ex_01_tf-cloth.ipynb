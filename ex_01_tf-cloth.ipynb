{
 "cells": [
  {
   "cell_type": "code",
   "execution_count": 1,
   "id": "d257d282",
   "metadata": {},
   "outputs": [],
   "source": [
    "import numpy as np\n",
    "import matplotlib.pyplot as plt\n",
    "import tensorflow as tf\n",
    "from pathlib import Path"
   ]
  },
  {
   "cell_type": "code",
   "execution_count": 2,
   "id": "1ba1dc32",
   "metadata": {},
   "outputs": [],
   "source": [
    "fashion_mnist = tf.keras.datasets.fashion_mnist.load_data()"
   ]
  },
  {
   "cell_type": "code",
   "execution_count": 3,
   "id": "4ade73e4",
   "metadata": {},
   "outputs": [],
   "source": [
    "(X_train_full, y_train_full), (X_test, y_test) = fashion_mnist"
   ]
  },
  {
   "cell_type": "code",
   "execution_count": 4,
   "id": "469fdf6e",
   "metadata": {},
   "outputs": [
    {
     "data": {
      "text/plain": [
       "(60000, 28, 28)"
      ]
     },
     "execution_count": 4,
     "metadata": {},
     "output_type": "execute_result"
    }
   ],
   "source": [
    "X_train_full.shape"
   ]
  },
  {
   "cell_type": "code",
   "execution_count": 5,
   "id": "c3dad40a",
   "metadata": {},
   "outputs": [],
   "source": [
    "X_train, y_train = X_train_full[:-5000], y_train_full[:-5000]\n",
    "X_valid, y_valid = X_train_full[-5000:], y_train_full[-5000:]"
   ]
  },
  {
   "cell_type": "code",
   "execution_count": 6,
   "id": "dfa5f903",
   "metadata": {},
   "outputs": [
    {
     "data": {
      "text/plain": [
       "(55000, 28, 28)"
      ]
     },
     "execution_count": 6,
     "metadata": {},
     "output_type": "execute_result"
    }
   ],
   "source": [
    "X_train.shape"
   ]
  },
  {
   "cell_type": "code",
   "execution_count": 7,
   "id": "9f3167a7",
   "metadata": {},
   "outputs": [
    {
     "data": {
      "text/plain": [
       "(10000, 28, 28)"
      ]
     },
     "execution_count": 7,
     "metadata": {},
     "output_type": "execute_result"
    }
   ],
   "source": [
    "X_test.shape"
   ]
  },
  {
   "cell_type": "code",
   "execution_count": 8,
   "id": "121dcf6f",
   "metadata": {},
   "outputs": [
    {
     "data": {
      "text/plain": [
       "(5000, 28, 28)"
      ]
     },
     "execution_count": 8,
     "metadata": {},
     "output_type": "execute_result"
    }
   ],
   "source": [
    "X_valid.shape"
   ]
  },
  {
   "cell_type": "code",
   "execution_count": 9,
   "id": "4eae85f1",
   "metadata": {},
   "outputs": [
    {
     "data": {
      "text/plain": [
       "array([[  0,   0,   0,   0,   0,   0,   0,   0,   0,   0,   0,   0,   0,\n",
       "          0,   0,   0,   0,   0,   0,   0,   0,   0,   0,   0,   0,   0,\n",
       "          0,   0],\n",
       "       [  0,   0,   0,   0,   0,   0,   0,   0,   0,   0,   0,   0,   0,\n",
       "          0,   0,   0,   0,   0,   0,   0,   0,   0,   0,   0,   0,   0,\n",
       "          0,   0],\n",
       "       [  0,   0,   0,   0,   0,   0,   0,   0,   0,   0,   0,   0,   0,\n",
       "          0,   0,   0,   0,   0,   0,   0,   0,   0,   0,   0,   0,   0,\n",
       "          0,   0],\n",
       "       [  0,   0,   0,   0,   0,   0,   0,   0,   0,   0,   0,   0,   1,\n",
       "          0,   0,  13,  73,   0,   0,   1,   4,   0,   0,   0,   0,   1,\n",
       "          1,   0],\n",
       "       [  0,   0,   0,   0,   0,   0,   0,   0,   0,   0,   0,   0,   3,\n",
       "          0,  36, 136, 127,  62,  54,   0,   0,   0,   1,   3,   4,   0,\n",
       "          0,   3],\n",
       "       [  0,   0,   0,   0,   0,   0,   0,   0,   0,   0,   0,   0,   6,\n",
       "          0, 102, 204, 176, 134, 144, 123,  23,   0,   0,   0,   0,  12,\n",
       "         10,   0],\n",
       "       [  0,   0,   0,   0,   0,   0,   0,   0,   0,   0,   0,   0,   0,\n",
       "          0, 155, 236, 207, 178, 107, 156, 161, 109,  64,  23,  77, 130,\n",
       "         72,  15],\n",
       "       [  0,   0,   0,   0,   0,   0,   0,   0,   0,   0,   0,   1,   0,\n",
       "         69, 207, 223, 218, 216, 216, 163, 127, 121, 122, 146, 141,  88,\n",
       "        172,  66],\n",
       "       [  0,   0,   0,   0,   0,   0,   0,   0,   0,   1,   1,   1,   0,\n",
       "        200, 232, 232, 233, 229, 223, 223, 215, 213, 164, 127, 123, 196,\n",
       "        229,   0],\n",
       "       [  0,   0,   0,   0,   0,   0,   0,   0,   0,   0,   0,   0,   0,\n",
       "        183, 225, 216, 223, 228, 235, 227, 224, 222, 224, 221, 223, 245,\n",
       "        173,   0],\n",
       "       [  0,   0,   0,   0,   0,   0,   0,   0,   0,   0,   0,   0,   0,\n",
       "        193, 228, 218, 213, 198, 180, 212, 210, 211, 213, 223, 220, 243,\n",
       "        202,   0],\n",
       "       [  0,   0,   0,   0,   0,   0,   0,   0,   0,   1,   3,   0,  12,\n",
       "        219, 220, 212, 218, 192, 169, 227, 208, 218, 224, 212, 226, 197,\n",
       "        209,  52],\n",
       "       [  0,   0,   0,   0,   0,   0,   0,   0,   0,   0,   6,   0,  99,\n",
       "        244, 222, 220, 218, 203, 198, 221, 215, 213, 222, 220, 245, 119,\n",
       "        167,  56],\n",
       "       [  0,   0,   0,   0,   0,   0,   0,   0,   0,   4,   0,   0,  55,\n",
       "        236, 228, 230, 228, 240, 232, 213, 218, 223, 234, 217, 217, 209,\n",
       "         92,   0],\n",
       "       [  0,   0,   1,   4,   6,   7,   2,   0,   0,   0,   0,   0, 237,\n",
       "        226, 217, 223, 222, 219, 222, 221, 216, 223, 229, 215, 218, 255,\n",
       "         77,   0],\n",
       "       [  0,   3,   0,   0,   0,   0,   0,   0,   0,  62, 145, 204, 228,\n",
       "        207, 213, 221, 218, 208, 211, 218, 224, 223, 219, 215, 224, 244,\n",
       "        159,   0],\n",
       "       [  0,   0,   0,   0,  18,  44,  82, 107, 189, 228, 220, 222, 217,\n",
       "        226, 200, 205, 211, 230, 224, 234, 176, 188, 250, 248, 233, 238,\n",
       "        215,   0],\n",
       "       [  0,  57, 187, 208, 224, 221, 224, 208, 204, 214, 208, 209, 200,\n",
       "        159, 245, 193, 206, 223, 255, 255, 221, 234, 221, 211, 220, 232,\n",
       "        246,   0],\n",
       "       [  3, 202, 228, 224, 221, 211, 211, 214, 205, 205, 205, 220, 240,\n",
       "         80, 150, 255, 229, 221, 188, 154, 191, 210, 204, 209, 222, 228,\n",
       "        225,   0],\n",
       "       [ 98, 233, 198, 210, 222, 229, 229, 234, 249, 220, 194, 215, 217,\n",
       "        241,  65,  73, 106, 117, 168, 219, 221, 215, 217, 223, 223, 224,\n",
       "        229,  29],\n",
       "       [ 75, 204, 212, 204, 193, 205, 211, 225, 216, 185, 197, 206, 198,\n",
       "        213, 240, 195, 227, 245, 239, 223, 218, 212, 209, 222, 220, 221,\n",
       "        230,  67],\n",
       "       [ 48, 203, 183, 194, 213, 197, 185, 190, 194, 192, 202, 214, 219,\n",
       "        221, 220, 236, 225, 216, 199, 206, 186, 181, 177, 172, 181, 205,\n",
       "        206, 115],\n",
       "       [  0, 122, 219, 193, 179, 171, 183, 196, 204, 210, 213, 207, 211,\n",
       "        210, 200, 196, 194, 191, 195, 191, 198, 192, 176, 156, 167, 177,\n",
       "        210,  92],\n",
       "       [  0,   0,  74, 189, 212, 191, 175, 172, 175, 181, 185, 188, 189,\n",
       "        188, 193, 198, 204, 209, 210, 210, 211, 188, 188, 194, 192, 216,\n",
       "        170,   0],\n",
       "       [  2,   0,   0,   0,  66, 200, 222, 237, 239, 242, 246, 243, 244,\n",
       "        221, 220, 193, 191, 179, 182, 182, 181, 176, 166, 168,  99,  58,\n",
       "          0,   0],\n",
       "       [  0,   0,   0,   0,   0,   0,   0,  40,  61,  44,  72,  41,  35,\n",
       "          0,   0,   0,   0,   0,   0,   0,   0,   0,   0,   0,   0,   0,\n",
       "          0,   0],\n",
       "       [  0,   0,   0,   0,   0,   0,   0,   0,   0,   0,   0,   0,   0,\n",
       "          0,   0,   0,   0,   0,   0,   0,   0,   0,   0,   0,   0,   0,\n",
       "          0,   0],\n",
       "       [  0,   0,   0,   0,   0,   0,   0,   0,   0,   0,   0,   0,   0,\n",
       "          0,   0,   0,   0,   0,   0,   0,   0,   0,   0,   0,   0,   0,\n",
       "          0,   0]], dtype=uint8)"
      ]
     },
     "execution_count": 9,
     "metadata": {},
     "output_type": "execute_result"
    }
   ],
   "source": [
    "X_train[0]"
   ]
  },
  {
   "cell_type": "code",
   "execution_count": 10,
   "id": "8b78fb15",
   "metadata": {},
   "outputs": [
    {
     "data": {
      "text/plain": [
       "array([9, 0, 0, ..., 9, 0, 2], dtype=uint8)"
      ]
     },
     "execution_count": 10,
     "metadata": {},
     "output_type": "execute_result"
    }
   ],
   "source": [
    "y_train"
   ]
  },
  {
   "cell_type": "markdown",
   "id": "fe7d80b9",
   "metadata": {},
   "source": [
    "For simplicity, we’ll scale the pixel intensities down to the 0–1 range by dividing them by 255.0 (this also converts them to floats):"
   ]
  },
  {
   "cell_type": "code",
   "execution_count": 11,
   "id": "fa219f99",
   "metadata": {},
   "outputs": [],
   "source": [
    "X_train, X_valid, X_test = X_train / 255., X_valid / 255., X_test / 255."
   ]
  },
  {
   "cell_type": "code",
   "execution_count": 12,
   "id": "253bd742",
   "metadata": {},
   "outputs": [
    {
     "data": {
      "text/plain": [
       "array([[0.        , 0.        , 0.        , 0.        , 0.        ,\n",
       "        0.        , 0.        , 0.        , 0.        , 0.        ,\n",
       "        0.        , 0.        , 0.        , 0.        , 0.        ,\n",
       "        0.        , 0.        , 0.        , 0.        , 0.        ,\n",
       "        0.        , 0.        , 0.        , 0.        , 0.        ,\n",
       "        0.        , 0.        , 0.        ],\n",
       "       [0.        , 0.        , 0.        , 0.        , 0.        ,\n",
       "        0.        , 0.        , 0.        , 0.        , 0.        ,\n",
       "        0.        , 0.        , 0.        , 0.        , 0.        ,\n",
       "        0.        , 0.        , 0.        , 0.        , 0.        ,\n",
       "        0.        , 0.        , 0.        , 0.        , 0.        ,\n",
       "        0.        , 0.        , 0.        ],\n",
       "       [0.        , 0.        , 0.        , 0.        , 0.        ,\n",
       "        0.        , 0.        , 0.        , 0.        , 0.        ,\n",
       "        0.        , 0.        , 0.        , 0.        , 0.        ,\n",
       "        0.        , 0.        , 0.        , 0.        , 0.        ,\n",
       "        0.        , 0.        , 0.        , 0.        , 0.        ,\n",
       "        0.        , 0.        , 0.        ],\n",
       "       [0.        , 0.        , 0.        , 0.        , 0.        ,\n",
       "        0.        , 0.        , 0.        , 0.        , 0.        ,\n",
       "        0.        , 0.        , 0.00392157, 0.        , 0.        ,\n",
       "        0.05098039, 0.28627451, 0.        , 0.        , 0.00392157,\n",
       "        0.01568627, 0.        , 0.        , 0.        , 0.        ,\n",
       "        0.00392157, 0.00392157, 0.        ],\n",
       "       [0.        , 0.        , 0.        , 0.        , 0.        ,\n",
       "        0.        , 0.        , 0.        , 0.        , 0.        ,\n",
       "        0.        , 0.        , 0.01176471, 0.        , 0.14117647,\n",
       "        0.53333333, 0.49803922, 0.24313725, 0.21176471, 0.        ,\n",
       "        0.        , 0.        , 0.00392157, 0.01176471, 0.01568627,\n",
       "        0.        , 0.        , 0.01176471],\n",
       "       [0.        , 0.        , 0.        , 0.        , 0.        ,\n",
       "        0.        , 0.        , 0.        , 0.        , 0.        ,\n",
       "        0.        , 0.        , 0.02352941, 0.        , 0.4       ,\n",
       "        0.8       , 0.69019608, 0.5254902 , 0.56470588, 0.48235294,\n",
       "        0.09019608, 0.        , 0.        , 0.        , 0.        ,\n",
       "        0.04705882, 0.03921569, 0.        ],\n",
       "       [0.        , 0.        , 0.        , 0.        , 0.        ,\n",
       "        0.        , 0.        , 0.        , 0.        , 0.        ,\n",
       "        0.        , 0.        , 0.        , 0.        , 0.60784314,\n",
       "        0.9254902 , 0.81176471, 0.69803922, 0.41960784, 0.61176471,\n",
       "        0.63137255, 0.42745098, 0.25098039, 0.09019608, 0.30196078,\n",
       "        0.50980392, 0.28235294, 0.05882353],\n",
       "       [0.        , 0.        , 0.        , 0.        , 0.        ,\n",
       "        0.        , 0.        , 0.        , 0.        , 0.        ,\n",
       "        0.        , 0.00392157, 0.        , 0.27058824, 0.81176471,\n",
       "        0.8745098 , 0.85490196, 0.84705882, 0.84705882, 0.63921569,\n",
       "        0.49803922, 0.4745098 , 0.47843137, 0.57254902, 0.55294118,\n",
       "        0.34509804, 0.6745098 , 0.25882353],\n",
       "       [0.        , 0.        , 0.        , 0.        , 0.        ,\n",
       "        0.        , 0.        , 0.        , 0.        , 0.00392157,\n",
       "        0.00392157, 0.00392157, 0.        , 0.78431373, 0.90980392,\n",
       "        0.90980392, 0.91372549, 0.89803922, 0.8745098 , 0.8745098 ,\n",
       "        0.84313725, 0.83529412, 0.64313725, 0.49803922, 0.48235294,\n",
       "        0.76862745, 0.89803922, 0.        ],\n",
       "       [0.        , 0.        , 0.        , 0.        , 0.        ,\n",
       "        0.        , 0.        , 0.        , 0.        , 0.        ,\n",
       "        0.        , 0.        , 0.        , 0.71764706, 0.88235294,\n",
       "        0.84705882, 0.8745098 , 0.89411765, 0.92156863, 0.89019608,\n",
       "        0.87843137, 0.87058824, 0.87843137, 0.86666667, 0.8745098 ,\n",
       "        0.96078431, 0.67843137, 0.        ],\n",
       "       [0.        , 0.        , 0.        , 0.        , 0.        ,\n",
       "        0.        , 0.        , 0.        , 0.        , 0.        ,\n",
       "        0.        , 0.        , 0.        , 0.75686275, 0.89411765,\n",
       "        0.85490196, 0.83529412, 0.77647059, 0.70588235, 0.83137255,\n",
       "        0.82352941, 0.82745098, 0.83529412, 0.8745098 , 0.8627451 ,\n",
       "        0.95294118, 0.79215686, 0.        ],\n",
       "       [0.        , 0.        , 0.        , 0.        , 0.        ,\n",
       "        0.        , 0.        , 0.        , 0.        , 0.00392157,\n",
       "        0.01176471, 0.        , 0.04705882, 0.85882353, 0.8627451 ,\n",
       "        0.83137255, 0.85490196, 0.75294118, 0.6627451 , 0.89019608,\n",
       "        0.81568627, 0.85490196, 0.87843137, 0.83137255, 0.88627451,\n",
       "        0.77254902, 0.81960784, 0.20392157],\n",
       "       [0.        , 0.        , 0.        , 0.        , 0.        ,\n",
       "        0.        , 0.        , 0.        , 0.        , 0.        ,\n",
       "        0.02352941, 0.        , 0.38823529, 0.95686275, 0.87058824,\n",
       "        0.8627451 , 0.85490196, 0.79607843, 0.77647059, 0.86666667,\n",
       "        0.84313725, 0.83529412, 0.87058824, 0.8627451 , 0.96078431,\n",
       "        0.46666667, 0.65490196, 0.21960784],\n",
       "       [0.        , 0.        , 0.        , 0.        , 0.        ,\n",
       "        0.        , 0.        , 0.        , 0.        , 0.01568627,\n",
       "        0.        , 0.        , 0.21568627, 0.9254902 , 0.89411765,\n",
       "        0.90196078, 0.89411765, 0.94117647, 0.90980392, 0.83529412,\n",
       "        0.85490196, 0.8745098 , 0.91764706, 0.85098039, 0.85098039,\n",
       "        0.81960784, 0.36078431, 0.        ],\n",
       "       [0.        , 0.        , 0.00392157, 0.01568627, 0.02352941,\n",
       "        0.02745098, 0.00784314, 0.        , 0.        , 0.        ,\n",
       "        0.        , 0.        , 0.92941176, 0.88627451, 0.85098039,\n",
       "        0.8745098 , 0.87058824, 0.85882353, 0.87058824, 0.86666667,\n",
       "        0.84705882, 0.8745098 , 0.89803922, 0.84313725, 0.85490196,\n",
       "        1.        , 0.30196078, 0.        ],\n",
       "       [0.        , 0.01176471, 0.        , 0.        , 0.        ,\n",
       "        0.        , 0.        , 0.        , 0.        , 0.24313725,\n",
       "        0.56862745, 0.8       , 0.89411765, 0.81176471, 0.83529412,\n",
       "        0.86666667, 0.85490196, 0.81568627, 0.82745098, 0.85490196,\n",
       "        0.87843137, 0.8745098 , 0.85882353, 0.84313725, 0.87843137,\n",
       "        0.95686275, 0.62352941, 0.        ],\n",
       "       [0.        , 0.        , 0.        , 0.        , 0.07058824,\n",
       "        0.17254902, 0.32156863, 0.41960784, 0.74117647, 0.89411765,\n",
       "        0.8627451 , 0.87058824, 0.85098039, 0.88627451, 0.78431373,\n",
       "        0.80392157, 0.82745098, 0.90196078, 0.87843137, 0.91764706,\n",
       "        0.69019608, 0.7372549 , 0.98039216, 0.97254902, 0.91372549,\n",
       "        0.93333333, 0.84313725, 0.        ],\n",
       "       [0.        , 0.22352941, 0.73333333, 0.81568627, 0.87843137,\n",
       "        0.86666667, 0.87843137, 0.81568627, 0.8       , 0.83921569,\n",
       "        0.81568627, 0.81960784, 0.78431373, 0.62352941, 0.96078431,\n",
       "        0.75686275, 0.80784314, 0.8745098 , 1.        , 1.        ,\n",
       "        0.86666667, 0.91764706, 0.86666667, 0.82745098, 0.8627451 ,\n",
       "        0.90980392, 0.96470588, 0.        ],\n",
       "       [0.01176471, 0.79215686, 0.89411765, 0.87843137, 0.86666667,\n",
       "        0.82745098, 0.82745098, 0.83921569, 0.80392157, 0.80392157,\n",
       "        0.80392157, 0.8627451 , 0.94117647, 0.31372549, 0.58823529,\n",
       "        1.        , 0.89803922, 0.86666667, 0.7372549 , 0.60392157,\n",
       "        0.74901961, 0.82352941, 0.8       , 0.81960784, 0.87058824,\n",
       "        0.89411765, 0.88235294, 0.        ],\n",
       "       [0.38431373, 0.91372549, 0.77647059, 0.82352941, 0.87058824,\n",
       "        0.89803922, 0.89803922, 0.91764706, 0.97647059, 0.8627451 ,\n",
       "        0.76078431, 0.84313725, 0.85098039, 0.94509804, 0.25490196,\n",
       "        0.28627451, 0.41568627, 0.45882353, 0.65882353, 0.85882353,\n",
       "        0.86666667, 0.84313725, 0.85098039, 0.8745098 , 0.8745098 ,\n",
       "        0.87843137, 0.89803922, 0.11372549],\n",
       "       [0.29411765, 0.8       , 0.83137255, 0.8       , 0.75686275,\n",
       "        0.80392157, 0.82745098, 0.88235294, 0.84705882, 0.7254902 ,\n",
       "        0.77254902, 0.80784314, 0.77647059, 0.83529412, 0.94117647,\n",
       "        0.76470588, 0.89019608, 0.96078431, 0.9372549 , 0.8745098 ,\n",
       "        0.85490196, 0.83137255, 0.81960784, 0.87058824, 0.8627451 ,\n",
       "        0.86666667, 0.90196078, 0.2627451 ],\n",
       "       [0.18823529, 0.79607843, 0.71764706, 0.76078431, 0.83529412,\n",
       "        0.77254902, 0.7254902 , 0.74509804, 0.76078431, 0.75294118,\n",
       "        0.79215686, 0.83921569, 0.85882353, 0.86666667, 0.8627451 ,\n",
       "        0.9254902 , 0.88235294, 0.84705882, 0.78039216, 0.80784314,\n",
       "        0.72941176, 0.70980392, 0.69411765, 0.6745098 , 0.70980392,\n",
       "        0.80392157, 0.80784314, 0.45098039],\n",
       "       [0.        , 0.47843137, 0.85882353, 0.75686275, 0.70196078,\n",
       "        0.67058824, 0.71764706, 0.76862745, 0.8       , 0.82352941,\n",
       "        0.83529412, 0.81176471, 0.82745098, 0.82352941, 0.78431373,\n",
       "        0.76862745, 0.76078431, 0.74901961, 0.76470588, 0.74901961,\n",
       "        0.77647059, 0.75294118, 0.69019608, 0.61176471, 0.65490196,\n",
       "        0.69411765, 0.82352941, 0.36078431],\n",
       "       [0.        , 0.        , 0.29019608, 0.74117647, 0.83137255,\n",
       "        0.74901961, 0.68627451, 0.6745098 , 0.68627451, 0.70980392,\n",
       "        0.7254902 , 0.7372549 , 0.74117647, 0.7372549 , 0.75686275,\n",
       "        0.77647059, 0.8       , 0.81960784, 0.82352941, 0.82352941,\n",
       "        0.82745098, 0.7372549 , 0.7372549 , 0.76078431, 0.75294118,\n",
       "        0.84705882, 0.66666667, 0.        ],\n",
       "       [0.00784314, 0.        , 0.        , 0.        , 0.25882353,\n",
       "        0.78431373, 0.87058824, 0.92941176, 0.9372549 , 0.94901961,\n",
       "        0.96470588, 0.95294118, 0.95686275, 0.86666667, 0.8627451 ,\n",
       "        0.75686275, 0.74901961, 0.70196078, 0.71372549, 0.71372549,\n",
       "        0.70980392, 0.69019608, 0.65098039, 0.65882353, 0.38823529,\n",
       "        0.22745098, 0.        , 0.        ],\n",
       "       [0.        , 0.        , 0.        , 0.        , 0.        ,\n",
       "        0.        , 0.        , 0.15686275, 0.23921569, 0.17254902,\n",
       "        0.28235294, 0.16078431, 0.1372549 , 0.        , 0.        ,\n",
       "        0.        , 0.        , 0.        , 0.        , 0.        ,\n",
       "        0.        , 0.        , 0.        , 0.        , 0.        ,\n",
       "        0.        , 0.        , 0.        ],\n",
       "       [0.        , 0.        , 0.        , 0.        , 0.        ,\n",
       "        0.        , 0.        , 0.        , 0.        , 0.        ,\n",
       "        0.        , 0.        , 0.        , 0.        , 0.        ,\n",
       "        0.        , 0.        , 0.        , 0.        , 0.        ,\n",
       "        0.        , 0.        , 0.        , 0.        , 0.        ,\n",
       "        0.        , 0.        , 0.        ],\n",
       "       [0.        , 0.        , 0.        , 0.        , 0.        ,\n",
       "        0.        , 0.        , 0.        , 0.        , 0.        ,\n",
       "        0.        , 0.        , 0.        , 0.        , 0.        ,\n",
       "        0.        , 0.        , 0.        , 0.        , 0.        ,\n",
       "        0.        , 0.        , 0.        , 0.        , 0.        ,\n",
       "        0.        , 0.        , 0.        ]])"
      ]
     },
     "execution_count": 12,
     "metadata": {},
     "output_type": "execute_result"
    }
   ],
   "source": [
    "X_train[0]"
   ]
  },
  {
   "cell_type": "code",
   "execution_count": 13,
   "id": "96a09d63",
   "metadata": {},
   "outputs": [
    {
     "data": {
      "image/png": "[encoded data removed]",
      "text/plain": [
       "<Figure size 432x288 with 1 Axes>"
      ]
     },
     "metadata": {
      "needs_background": "light"
     },
     "output_type": "display_data"
    }
   ],
   "source": [
    "plt.imshow(X_train[0], cmap=\"binary\")\n",
    "plt.axis('off')\n",
    "plt.show()"
   ]
  },
  {
   "cell_type": "code",
   "execution_count": 14,
   "id": "66c7b6f8",
   "metadata": {},
   "outputs": [
    {
     "data": {
      "text/plain": [
       "9"
      ]
     },
     "execution_count": 14,
     "metadata": {},
     "output_type": "execute_result"
    }
   ],
   "source": [
    "y_train[0]"
   ]
  },
  {
   "cell_type": "code",
   "execution_count": 15,
   "id": "afd6b8cb",
   "metadata": {},
   "outputs": [],
   "source": [
    "class_names = [\"T-shirt/top\", \"Trouser\", \"Pullover\", \"Dress\", \"Coat\",\n",
    "               \"Sandal\", \"Shirt\", \"Sneaker\", \"Bag\", \"Ankle boot\"]"
   ]
  },
  {
   "cell_type": "code",
   "execution_count": 16,
   "id": "325b0ecc",
   "metadata": {},
   "outputs": [
    {
     "data": {
      "text/plain": [
       "'Ankle boot'"
      ]
     },
     "execution_count": 16,
     "metadata": {},
     "output_type": "execute_result"
    }
   ],
   "source": [
    "class_names[y_train[0]]"
   ]
  },
  {
   "cell_type": "code",
   "execution_count": 17,
   "id": "46cb72f1",
   "metadata": {},
   "outputs": [
    {
     "data": {
      "image/png": "[encoded data removed]",
      "text/plain": [
       "<Figure size 1080x432 with 40 Axes>"
      ]
     },
     "metadata": {
      "needs_background": "light"
     },
     "output_type": "display_data"
    }
   ],
   "source": [
    "n_rows = 4\n",
    "n_cols = 10\n",
    "\n",
    "plt.figure(figsize=(n_cols * 1.5, n_rows * 1.5))\n",
    "\n",
    "for row in range(n_rows):\n",
    "    for col in range(n_cols):\n",
    "        index = n_cols * row + col\n",
    "        plt.subplot(n_rows, n_cols, index + 1)\n",
    "        plt.imshow(X_train[index], cmap=\"binary\", interpolation=\"nearest\")\n",
    "        plt.axis('off')\n",
    "        plt.title(class_names[y_train[index]])\n",
    "\n",
    "plt.subplots_adjust(wspace=0.2, hspace=0.5)\n",
    "plt.show()"
   ]
  },
  {
   "cell_type": "code",
   "execution_count": 18,
   "id": "ad689d59",
   "metadata": {},
   "outputs": [],
   "source": [
    "tf.keras.backend.clear_session()\n",
    "tf.random.set_seed(42)"
   ]
  },
  {
   "cell_type": "code",
   "execution_count": 19,
   "id": "ad92a153",
   "metadata": {},
   "outputs": [],
   "source": [
    "model = tf.keras.Sequential([\n",
    "    tf.keras.layers.Flatten(input_shape=[28, 28]),\n",
    "    tf.keras.layers.Dense(300, activation=\"relu\"),\n",
    "    tf.keras.layers.Dense(100, activation=\"relu\"),\n",
    "    tf.keras.layers.Dense(10, activation=\"softmax\")\n",
    "])"
   ]
  },
  {
   "cell_type": "code",
   "execution_count": 20,
   "id": "28a25239",
   "metadata": {},
   "outputs": [
    {
     "name": "stdout",
     "output_type": "stream",
     "text": [
      "Model: \"sequential\"\n",
      "_________________________________________________________________\n",
      " Layer (type)                Output Shape              Param #   \n",
      "=================================================================\n",
      " flatten (Flatten)           (None, 784)               0         \n",
      "                                                                 \n",
      " dense (Dense)               (None, 300)               235500    \n",
      "                                                                 \n",
      " dense_1 (Dense)             (None, 100)               30100     \n",
      "                                                                 \n",
      " dense_2 (Dense)             (None, 10)                1010      \n",
      "                                                                 \n",
      "=================================================================\n",
      "Total params: 266,610\n",
      "Trainable params: 266,610\n",
      "Non-trainable params: 0\n",
      "_________________________________________________________________\n"
     ]
    }
   ],
   "source": [
    "model.summary()"
   ]
  },
  {
   "cell_type": "code",
   "execution_count": 21,
   "id": "23cfeaac",
   "metadata": {},
   "outputs": [
    {
     "data": {
      "image/png": "[encoded data removed]",
      "text/plain": [
       "<IPython.core.display.Image object>"
      ]
     },
     "execution_count": 21,
     "metadata": {},
     "output_type": "execute_result"
    }
   ],
   "source": [
    "img_file = 'model_1_arch.png'\n",
    "tf.keras.utils.plot_model(model, to_file=img_file, show_shapes=True, show_layer_names=True)"
   ]
  },
  {
   "cell_type": "code",
   "execution_count": 22,
   "id": "24bb5783",
   "metadata": {},
   "outputs": [
    {
     "data": {
      "text/plain": [
       "[<keras.layers.reshaping.flatten.Flatten at 0x7efe4f155208>,\n",
       " <keras.layers.core.dense.Dense at 0x7efe4f215400>,\n",
       " <keras.layers.core.dense.Dense at 0x7efe4f155240>,\n",
       " <keras.layers.core.dense.Dense at 0x7efe4f155518>]"
      ]
     },
     "execution_count": 22,
     "metadata": {},
     "output_type": "execute_result"
    }
   ],
   "source": [
    "model.layers"
   ]
  },
  {
   "cell_type": "code",
   "execution_count": 23,
   "id": "5e5efb05",
   "metadata": {},
   "outputs": [
    {
     "data": {
      "text/plain": [
       "'dense'"
      ]
     },
     "execution_count": 23,
     "metadata": {},
     "output_type": "execute_result"
    }
   ],
   "source": [
    "hidden1 = model.layers[1]\n",
    "hidden1.name"
   ]
  },
  {
   "cell_type": "code",
   "execution_count": 28,
   "id": "4d46ddda",
   "metadata": {},
   "outputs": [],
   "source": [
    "weights, biases = hidden1.get_weights()"
   ]
  },
  {
   "cell_type": "code",
   "execution_count": 29,
   "id": "ae4fc885",
   "metadata": {},
   "outputs": [
    {
     "data": {
      "text/plain": [
       "array([[ 0.06190495, -0.03623957,  0.0388086 , ...,  0.01794343,\n",
       "        -0.04134275, -0.00801896],\n",
       "       [ 0.03838824,  0.02918646,  0.02946692, ...,  0.02209298,\n",
       "         0.02068587, -0.01738246],\n",
       "       [ 0.0628808 , -0.04784809, -0.00586825, ...,  0.00959313,\n",
       "         0.06666395,  0.0734375 ],\n",
       "       ...,\n",
       "       [-0.054879  , -0.03029599,  0.05754752, ..., -0.01875507,\n",
       "         0.02874531, -0.04111448],\n",
       "       [-0.04542287, -0.01103809,  0.02563849, ...,  0.03665967,\n",
       "         0.0232951 , -0.05466861],\n",
       "       [ 0.00561183, -0.03493639, -0.02807287, ...,  0.030047  ,\n",
       "        -0.07307595, -0.03795335]], dtype=float32)"
      ]
     },
     "execution_count": 29,
     "metadata": {},
     "output_type": "execute_result"
    }
   ],
   "source": [
    "weights"
   ]
  },
  {
   "cell_type": "code",
   "execution_count": 30,
   "id": "f22d6eeb",
   "metadata": {},
   "outputs": [
    {
     "data": {
      "text/plain": [
       "(784, 300)"
      ]
     },
     "execution_count": 30,
     "metadata": {},
     "output_type": "execute_result"
    }
   ],
   "source": [
    "weights.shape"
   ]
  },
  {
   "cell_type": "code",
   "execution_count": 31,
   "id": "908ecc43",
   "metadata": {},
   "outputs": [
    {
     "data": {
      "text/plain": [
       "array([0., 0., 0., 0., 0., 0., 0., 0., 0., 0., 0., 0., 0., 0., 0., 0., 0.,\n",
       "       0., 0., 0., 0., 0., 0., 0., 0., 0., 0., 0., 0., 0., 0., 0., 0., 0.,\n",
       "       0., 0., 0., 0., 0., 0., 0., 0., 0., 0., 0., 0., 0., 0., 0., 0., 0.,\n",
       "       0., 0., 0., 0., 0., 0., 0., 0., 0., 0., 0., 0., 0., 0., 0., 0., 0.,\n",
       "       0., 0., 0., 0., 0., 0., 0., 0., 0., 0., 0., 0., 0., 0., 0., 0., 0.,\n",
       "       0., 0., 0., 0., 0., 0., 0., 0., 0., 0., 0., 0., 0., 0., 0., 0., 0.,\n",
       "       0., 0., 0., 0., 0., 0., 0., 0., 0., 0., 0., 0., 0., 0., 0., 0., 0.,\n",
       "       0., 0., 0., 0., 0., 0., 0., 0., 0., 0., 0., 0., 0., 0., 0., 0., 0.,\n",
       "       0., 0., 0., 0., 0., 0., 0., 0., 0., 0., 0., 0., 0., 0., 0., 0., 0.,\n",
       "       0., 0., 0., 0., 0., 0., 0., 0., 0., 0., 0., 0., 0., 0., 0., 0., 0.,\n",
       "       0., 0., 0., 0., 0., 0., 0., 0., 0., 0., 0., 0., 0., 0., 0., 0., 0.,\n",
       "       0., 0., 0., 0., 0., 0., 0., 0., 0., 0., 0., 0., 0., 0., 0., 0., 0.,\n",
       "       0., 0., 0., 0., 0., 0., 0., 0., 0., 0., 0., 0., 0., 0., 0., 0., 0.,\n",
       "       0., 0., 0., 0., 0., 0., 0., 0., 0., 0., 0., 0., 0., 0., 0., 0., 0.,\n",
       "       0., 0., 0., 0., 0., 0., 0., 0., 0., 0., 0., 0., 0., 0., 0., 0., 0.,\n",
       "       0., 0., 0., 0., 0., 0., 0., 0., 0., 0., 0., 0., 0., 0., 0., 0., 0.,\n",
       "       0., 0., 0., 0., 0., 0., 0., 0., 0., 0., 0., 0., 0., 0., 0., 0., 0.,\n",
       "       0., 0., 0., 0., 0., 0., 0., 0., 0., 0., 0.], dtype=float32)"
      ]
     },
     "execution_count": 31,
     "metadata": {},
     "output_type": "execute_result"
    }
   ],
   "source": [
    "biases"
   ]
  },
  {
   "cell_type": "code",
   "execution_count": 32,
   "id": "2d880464",
   "metadata": {},
   "outputs": [
    {
     "data": {
      "text/plain": [
       "(300,)"
      ]
     },
     "execution_count": 32,
     "metadata": {},
     "output_type": "execute_result"
    }
   ],
   "source": [
    "biases.shape"
   ]
  },
  {
   "cell_type": "code",
   "execution_count": 33,
   "id": "e3deec33",
   "metadata": {},
   "outputs": [
    {
     "data": {
      "text/plain": [
       "'dense_1'"
      ]
     },
     "execution_count": 33,
     "metadata": {},
     "output_type": "execute_result"
    }
   ],
   "source": [
    "hidden2 = model.layers[2]\n",
    "hidden2.name"
   ]
  },
  {
   "cell_type": "code",
   "execution_count": 36,
   "id": "877aaa78",
   "metadata": {},
   "outputs": [],
   "source": [
    "weights2, biases2 = hidden2.get_weights()"
   ]
  },
  {
   "cell_type": "code",
   "execution_count": 37,
   "id": "10b39749",
   "metadata": {},
   "outputs": [
    {
     "data": {
      "text/plain": [
       "array([[ 0.01221175,  0.04375403, -0.01665077, ...,  0.06768071,\n",
       "        -0.05084606,  0.00248409],\n",
       "       [-0.06125453, -0.08030567, -0.07351008, ..., -0.09142461,\n",
       "         0.07144306, -0.04482028],\n",
       "       [ 0.02040688,  0.03836108, -0.07457539, ..., -0.10024195,\n",
       "        -0.02997642,  0.03649139],\n",
       "       ...,\n",
       "       [-0.11836923, -0.00269891,  0.0926911 , ...,  0.039156  ,\n",
       "         0.03422087, -0.03720983],\n",
       "       [-0.00584366,  0.07956152, -0.00724319, ...,  0.0830048 ,\n",
       "        -0.05427577,  0.0713337 ],\n",
       "       [ 0.04161342, -0.10469288,  0.10930908, ...,  0.11572141,\n",
       "        -0.03935909,  0.07468437]], dtype=float32)"
      ]
     },
     "execution_count": 37,
     "metadata": {},
     "output_type": "execute_result"
    }
   ],
   "source": [
    "weights2"
   ]
  },
  {
   "cell_type": "code",
   "execution_count": 38,
   "id": "1cd1e3a3",
   "metadata": {},
   "outputs": [
    {
     "data": {
      "text/plain": [
       "array([0., 0., 0., 0., 0., 0., 0., 0., 0., 0., 0., 0., 0., 0., 0., 0., 0.,\n",
       "       0., 0., 0., 0., 0., 0., 0., 0., 0., 0., 0., 0., 0., 0., 0., 0., 0.,\n",
       "       0., 0., 0., 0., 0., 0., 0., 0., 0., 0., 0., 0., 0., 0., 0., 0., 0.,\n",
       "       0., 0., 0., 0., 0., 0., 0., 0., 0., 0., 0., 0., 0., 0., 0., 0., 0.,\n",
       "       0., 0., 0., 0., 0., 0., 0., 0., 0., 0., 0., 0., 0., 0., 0., 0., 0.,\n",
       "       0., 0., 0., 0., 0., 0., 0., 0., 0., 0., 0., 0., 0., 0., 0.],\n",
       "      dtype=float32)"
      ]
     },
     "execution_count": 38,
     "metadata": {},
     "output_type": "execute_result"
    }
   ],
   "source": [
    "biases2"
   ]
  },
  {
   "cell_type": "code",
   "execution_count": 39,
   "id": "2dc6971d",
   "metadata": {},
   "outputs": [
    {
     "data": {
      "text/plain": [
       "'dense_2'"
      ]
     },
     "execution_count": 39,
     "metadata": {},
     "output_type": "execute_result"
    }
   ],
   "source": [
    "hidden3 = model.layers[3]\n",
    "hidden3.name"
   ]
  },
  {
   "cell_type": "code",
   "execution_count": 40,
   "id": "02b8d866",
   "metadata": {},
   "outputs": [],
   "source": [
    "weights3, biases3 = hidden3.get_weights()"
   ]
  },
  {
   "cell_type": "code",
   "execution_count": 41,
   "id": "3e289ed4",
   "metadata": {},
   "outputs": [
    {
     "data": {
      "text/plain": [
       "array([[-7.93783069e-02, -1.78140447e-01, -8.52557719e-02,\n",
       "         1.71430796e-01, -1.03249207e-01,  1.78285956e-01,\n",
       "        -2.28740826e-01,  3.40840816e-02, -2.33192757e-01,\n",
       "         3.25545371e-02],\n",
       "       [-9.41535681e-02,  1.42661780e-01, -1.21085562e-01,\n",
       "         2.22261101e-01, -1.42543569e-01, -1.98002160e-03,\n",
       "        -9.51878726e-02,  1.78072304e-01,  6.78120852e-02,\n",
       "        -6.12950027e-02],\n",
       "       [-2.05507651e-01,  2.10996687e-01,  6.78643286e-02,\n",
       "         1.97794735e-01, -1.53037339e-01, -1.26220882e-01,\n",
       "         1.21070147e-02, -2.22799152e-01,  1.78643316e-01,\n",
       "         1.61544085e-01],\n",
       "       [ 1.73207760e-01,  1.83478802e-01, -1.73235759e-01,\n",
       "        -1.39292777e-01,  2.00114965e-01,  2.90713310e-02,\n",
       "         1.70113415e-01, -8.17782283e-02, -2.10105032e-01,\n",
       "         5.29825389e-02],\n",
       "       [ 1.93903476e-01, -1.14814259e-01,  1.41137540e-02,\n",
       "         1.70059502e-03, -1.91408932e-01,  1.15719438e-01,\n",
       "         3.92877460e-02, -3.40378731e-02,  2.11207896e-01,\n",
       "        -2.12702960e-01],\n",
       "       [ 2.08545744e-01, -9.69803482e-02,  2.00661212e-01,\n",
       "        -1.17555849e-01, -6.76387995e-02,  5.23182452e-02,\n",
       "        -1.07832700e-02,  1.10763341e-01, -9.38029438e-02,\n",
       "        -7.62177110e-02],\n",
       "       [-1.22678421e-01, -1.17425159e-01,  2.07637072e-01,\n",
       "        -1.73500583e-01, -1.98460251e-01, -2.02514380e-01,\n",
       "         5.21562696e-02, -2.00562760e-01, -1.25336036e-01,\n",
       "        -4.70071286e-02],\n",
       "       [-7.83070922e-04,  5.69211245e-02, -1.40596405e-01,\n",
       "        -2.23231584e-01,  4.90903854e-04,  2.47829258e-02,\n",
       "        -1.53078765e-01,  4.64482307e-02,  5.93670905e-02,\n",
       "        -1.10186532e-01],\n",
       "       [ 2.09215850e-01, -8.86151046e-02,  1.67428553e-01,\n",
       "         6.75190985e-02, -1.96539134e-01, -1.90579742e-02,\n",
       "         1.00077242e-02, -1.07587606e-01, -1.89042389e-02,\n",
       "         1.59865767e-02],\n",
       "       [ 1.35317534e-01, -1.94009155e-01, -1.97981372e-01,\n",
       "        -4.54608202e-02,  1.94011092e-01, -1.51667148e-02,\n",
       "         9.51432586e-02,  5.54120243e-02,  6.16645813e-03,\n",
       "        -9.61992890e-02],\n",
       "       [ 1.34984493e-01, -1.44423574e-01, -2.24295259e-03,\n",
       "        -1.76173061e-01, -1.46196395e-01, -1.03978202e-01,\n",
       "         1.37011051e-01,  1.62459791e-01,  4.13972139e-02,\n",
       "        -1.55545920e-02],\n",
       "       [-1.14925064e-01, -2.14515314e-01, -5.85688353e-02,\n",
       "         1.17436081e-01,  1.03833437e-01,  1.35429502e-02,\n",
       "         1.41322523e-01,  3.45721841e-03,  1.75295800e-01,\n",
       "         1.19797975e-01],\n",
       "       [-1.84157670e-01,  1.33705527e-01,  1.78533733e-01,\n",
       "         8.43410790e-02,  4.95630205e-02, -1.38064966e-01,\n",
       "         9.64466929e-02, -8.17548931e-02,  7.78900087e-02,\n",
       "         5.22808731e-03],\n",
       "       [-1.69758648e-01,  3.91766429e-03,  1.70520544e-02,\n",
       "         7.70561695e-02,  8.49492848e-02, -4.72584814e-02,\n",
       "         1.19806856e-01,  1.10841930e-01,  1.71516895e-01,\n",
       "        -9.34991390e-02],\n",
       "       [ 4.62738872e-02, -1.95614532e-01, -5.73697686e-03,\n",
       "         1.83722466e-01, -1.20559976e-01, -1.53055221e-01,\n",
       "         1.20268971e-01,  4.21361327e-02,  3.57577205e-03,\n",
       "        -1.22144148e-01],\n",
       "       [-1.53892457e-01,  2.24988550e-01, -1.04423165e-02,\n",
       "        -7.68440813e-02,  9.42101479e-02, -1.60486728e-01,\n",
       "        -6.77946061e-02,  2.27134496e-01, -1.54618889e-01,\n",
       "        -5.98058105e-03],\n",
       "       [ 7.97168911e-03, -1.72117651e-02, -1.68661386e-01,\n",
       "         1.40162587e-01, -6.42766356e-02,  7.11867213e-02,\n",
       "         1.10529602e-01,  1.49250269e-01, -4.08558100e-02,\n",
       "        -1.86513320e-01],\n",
       "       [ 3.84727716e-02, -6.65128976e-02, -1.99368924e-01,\n",
       "        -1.90765709e-02,  1.11058027e-01,  6.05756938e-02,\n",
       "        -1.90694809e-01, -5.53774387e-02,  7.62114823e-02,\n",
       "         1.57537341e-01],\n",
       "       [ 5.69555163e-03,  2.01039314e-02, -1.31143391e-01,\n",
       "         5.56837022e-03, -2.35179812e-02, -1.57411486e-01,\n",
       "         1.27635509e-01,  3.22976708e-02, -1.59437656e-02,\n",
       "        -8.08091760e-02],\n",
       "       [-1.24814518e-01,  1.80869281e-01,  2.19124764e-01,\n",
       "        -1.17940947e-01,  3.83800566e-02,  6.70002997e-02,\n",
       "         2.10416526e-01, -6.43374920e-02, -4.16027457e-02,\n",
       "        -3.35400105e-02],\n",
       "       [-8.95309448e-03, -2.20716462e-01, -7.15134144e-02,\n",
       "        -8.64157528e-02, -1.63748503e-01,  2.03490347e-01,\n",
       "        -1.79890886e-01, -9.79770720e-02, -9.70886499e-02,\n",
       "        -3.59440595e-02],\n",
       "       [ 3.86607051e-02, -2.29149818e-01, -5.87424487e-02,\n",
       "         2.01167375e-01,  1.84911728e-01,  2.44918764e-02,\n",
       "        -1.67035341e-01, -3.95178795e-03,  3.86370718e-03,\n",
       "        -2.07327023e-01],\n",
       "       [-1.16532624e-01, -1.03143349e-01,  1.58017814e-01,\n",
       "        -9.24264640e-02,  9.60740149e-02, -3.87106389e-02,\n",
       "        -1.70808285e-01, -1.88925892e-01,  1.98252946e-01,\n",
       "         2.12195963e-01],\n",
       "       [-7.25294650e-02,  2.17749476e-01,  1.89518631e-01,\n",
       "         1.45248860e-01, -2.10558563e-01,  1.92885429e-01,\n",
       "         1.43907696e-01, -1.89233243e-01,  2.40368843e-02,\n",
       "        -2.11349368e-01],\n",
       "       [ 1.76928014e-01,  4.97650206e-02,  1.25803828e-01,\n",
       "        -1.47154987e-01,  8.35467577e-02, -2.27975845e-03,\n",
       "         4.73448336e-02,  2.28978246e-01,  1.60787255e-01,\n",
       "         4.47086692e-02],\n",
       "       [ 6.13162220e-02, -2.09995285e-01, -7.83976763e-02,\n",
       "        -2.10674778e-01, -2.03621686e-02, -9.60345268e-02,\n",
       "        -1.45371079e-01,  1.07261539e-03, -2.07039312e-01,\n",
       "         4.95074391e-02],\n",
       "       [-1.68280721e-01,  1.60251290e-01,  7.52795637e-02,\n",
       "        -1.41676158e-01,  1.35729581e-01,  1.95172697e-01,\n",
       "        -4.09680754e-02,  2.11337745e-01,  1.59787357e-01,\n",
       "        -4.06101495e-02],\n",
       "       [ 2.02201664e-01,  1.22988522e-01, -4.55447882e-02,\n",
       "        -1.54855162e-01,  1.92396909e-01,  1.40406370e-01,\n",
       "         1.03844553e-01, -1.35611415e-01,  8.68803561e-02,\n",
       "        -2.09283531e-02],\n",
       "       [-2.09460557e-02, -2.19813347e-01, -8.23398978e-02,\n",
       "         2.22725719e-01, -1.26606718e-01, -6.32978976e-02,\n",
       "        -1.02823675e-01, -1.34189904e-01,  1.88746691e-01,\n",
       "         2.56635547e-02],\n",
       "       [-2.03418165e-01,  5.64497709e-02,  7.67045915e-02,\n",
       "        -3.37550640e-02, -2.18255237e-01, -8.55633616e-02,\n",
       "         9.28660631e-02, -7.81725496e-02, -1.09027669e-01,\n",
       "        -2.02515885e-01],\n",
       "       [-4.10322696e-02, -2.33582854e-02, -2.03426629e-01,\n",
       "         2.04983920e-01, -1.78849339e-01,  4.31217253e-03,\n",
       "         1.81383848e-01, -1.04393482e-01, -1.05397999e-01,\n",
       "         8.51356685e-02],\n",
       "       [-1.31182268e-01,  2.00819731e-01, -5.39974570e-02,\n",
       "         9.37944651e-02,  1.26963258e-01,  4.98836935e-02,\n",
       "        -4.25622016e-02,  2.30886787e-01,  3.48536372e-02,\n",
       "         1.44789219e-02],\n",
       "       [ 2.18847871e-01, -2.06926554e-01, -1.67883933e-01,\n",
       "         3.32841575e-02,  4.24139798e-02, -1.14507280e-01,\n",
       "         1.78543597e-01, -2.06095442e-01, -1.50200993e-01,\n",
       "         1.63209617e-01],\n",
       "       [-1.77671760e-01,  1.86937571e-01,  1.01043165e-01,\n",
       "         1.73411101e-01, -1.07696801e-02,  9.90432799e-02,\n",
       "         1.05575919e-01, -2.00868577e-01, -1.59089819e-01,\n",
       "         2.10319400e-01],\n",
       "       [-1.08860508e-01,  2.18245894e-01, -1.48927078e-01,\n",
       "        -3.00883651e-02,  2.08297908e-01, -2.08169341e-01,\n",
       "        -1.88700646e-01, -1.99979275e-01,  1.59687698e-02,\n",
       "         2.22586006e-01],\n",
       "       [-1.38511598e-01,  1.23275816e-03,  2.60208547e-02,\n",
       "        -2.22895876e-01,  2.96504796e-03, -3.53422761e-03,\n",
       "         2.24644601e-01,  2.08752841e-01,  9.49293971e-02,\n",
       "         1.63424999e-01],\n",
       "       [-1.37589782e-01, -8.12971294e-02,  7.08292425e-02,\n",
       "        -1.44839808e-01, -9.47412997e-02, -1.59666419e-01,\n",
       "         1.76197171e-01,  5.75670600e-02,  8.81289840e-02,\n",
       "        -8.79524797e-02],\n",
       "       [ 5.22915721e-02,  1.73492610e-01, -1.12766534e-01,\n",
       "        -1.11055352e-01, -2.13213965e-01,  8.03776383e-02,\n",
       "         5.35269380e-02,  4.55849469e-02,  1.16392404e-01,\n",
       "         2.08150566e-01],\n",
       "       [ 2.84202099e-02,  3.35908532e-02, -1.43939257e-03,\n",
       "         2.65903175e-02,  1.82227761e-01, -7.72884786e-02,\n",
       "        -3.50706726e-02,  1.79401487e-01,  5.71722686e-02,\n",
       "        -8.51341635e-02],\n",
       "       [ 2.07716793e-01,  2.29675770e-02,  1.03141516e-01,\n",
       "        -9.30690914e-02, -1.06896088e-01, -5.61045408e-02,\n",
       "        -1.52468055e-01, -1.56022608e-02,  1.26662850e-01,\n",
       "        -8.70352238e-02],\n",
       "       [ 3.41119170e-02, -2.26447210e-01,  1.18111789e-01,\n",
       "        -2.27321982e-02,  1.96981877e-01, -4.65582758e-02,\n",
       "        -2.23675713e-01,  2.21241564e-01,  8.40269625e-02,\n",
       "        -2.80414224e-02],\n",
       "       [ 2.03227997e-01, -2.03270838e-01, -1.98125154e-01,\n",
       "         2.14228541e-01,  1.58839136e-01,  1.54134393e-01,\n",
       "         3.53742540e-02, -1.76645592e-01,  2.22703218e-01,\n",
       "         1.48237020e-01],\n",
       "       [-1.36200666e-01, -1.49870276e-01, -4.39777970e-04,\n",
       "        -9.58237201e-02,  1.44603610e-01,  1.26242936e-02,\n",
       "         3.89499664e-02, -7.87773281e-02,  5.95848262e-03,\n",
       "        -4.42969501e-02],\n",
       "       [ 2.21675307e-01,  4.02993262e-02,  7.12591112e-02,\n",
       "        -5.96789718e-02, -1.09072663e-01, -1.06102601e-01,\n",
       "        -1.63939446e-01, -1.21107280e-01,  2.33481079e-01,\n",
       "        -3.74856293e-02],\n",
       "       [-7.37994909e-03, -3.75027806e-02,  2.90073454e-02,\n",
       "         2.70430148e-02, -5.46109229e-02,  5.89595735e-03,\n",
       "         5.14601171e-03, -1.14916101e-01, -3.00366282e-02,\n",
       "         1.46402478e-01],\n",
       "       [ 5.43563366e-02,  6.33202195e-02, -2.03331575e-01,\n",
       "         2.22254485e-01,  8.06311071e-02, -2.24821106e-01,\n",
       "         1.92662179e-02,  1.01882309e-01,  1.54823601e-01,\n",
       "        -4.63077575e-02],\n",
       "       [ 1.93502218e-01, -1.15888268e-02, -1.87210187e-01,\n",
       "        -6.19949251e-02, -6.82156235e-02,  8.84561241e-02,\n",
       "        -9.16098803e-02,  2.63120830e-02,  4.77062762e-02,\n",
       "         1.86594903e-01],\n",
       "       [ 2.11095512e-01,  5.69107234e-02,  2.27575213e-01,\n",
       "         2.14616358e-02, -1.88620582e-01, -9.27809328e-02,\n",
       "        -1.27364993e-02, -2.13174090e-01, -1.74575090e-01,\n",
       "        -7.66810477e-02],\n",
       "       [-1.25256240e-01,  2.00198323e-01, -3.17444205e-02,\n",
       "         6.22316301e-02,  1.53745919e-01, -1.91065595e-01,\n",
       "         2.17239141e-01,  1.06104612e-01, -4.75910157e-02,\n",
       "         1.88235134e-01],\n",
       "       [-1.17851689e-01,  1.48898005e-01, -1.41042203e-01,\n",
       "        -1.05282351e-01,  4.24544513e-02,  5.71101606e-02,\n",
       "         9.61445570e-02, -1.77012876e-01,  2.18728930e-01,\n",
       "         1.63989455e-01],\n",
       "       [-1.42590523e-01,  1.30552381e-01,  2.08637357e-01,\n",
       "         8.55837464e-02, -8.15661848e-02,  1.51711643e-01,\n",
       "         1.69645786e-01, -6.85162544e-02, -1.65634364e-01,\n",
       "        -1.27481371e-01],\n",
       "       [ 1.26109123e-01, -1.87958509e-01,  1.07972324e-01,\n",
       "        -1.64030641e-01,  1.24538004e-01, -1.88331425e-01,\n",
       "        -1.53725028e-01, -1.86241031e-01, -1.89148843e-01,\n",
       "        -6.17538840e-02],\n",
       "       [-9.53945071e-02, -1.48928702e-01, -1.85693115e-01,\n",
       "         2.26566195e-02,  4.77600098e-03,  2.07316965e-01,\n",
       "         2.66790986e-02, -2.01369375e-01,  3.04818153e-02,\n",
       "        -1.23820357e-01],\n",
       "       [ 2.18569130e-01, -2.19373733e-01, -2.30979040e-01,\n",
       "         1.43422574e-01,  4.39510942e-02,  1.15669876e-01,\n",
       "        -1.09141149e-01, -1.06598064e-01, -2.05676705e-01,\n",
       "        -3.03927064e-03],\n",
       "       [-2.04129070e-02,  1.95239663e-01,  1.22691005e-01,\n",
       "        -8.41792077e-02,  3.90622914e-02, -1.62625879e-01,\n",
       "        -3.89291495e-02,  2.27008641e-01,  7.58978128e-02,\n",
       "        -2.79397368e-02],\n",
       "       [ 1.56578541e-01, -2.07798272e-01,  9.70010161e-02,\n",
       "         2.19842464e-01,  2.34473348e-02,  1.37108624e-01,\n",
       "        -8.87594819e-02, -2.04453692e-01,  1.25166476e-01,\n",
       "        -6.32525682e-02],\n",
       "       [-1.95032656e-02,  5.86921573e-02, -6.99190646e-02,\n",
       "        -1.41681045e-01, -1.92674384e-01,  1.85306668e-02,\n",
       "         8.07631016e-03, -1.50924981e-01, -4.09944057e-02,\n",
       "        -1.41451582e-01],\n",
       "       [-1.80441022e-01,  7.70875812e-02, -1.43981636e-01,\n",
       "         1.53596789e-01,  9.14112031e-02, -1.56764239e-02,\n",
       "        -7.55094290e-02, -4.18883860e-02,  2.26539463e-01,\n",
       "         3.91612351e-02],\n",
       "       [ 1.17526054e-01,  2.47719586e-02, -1.49270415e-01,\n",
       "         6.06121123e-02,  3.82443666e-02, -2.30371714e-01,\n",
       "         1.06621563e-01, -1.18467927e-01,  2.10810810e-01,\n",
       "         3.45038772e-02],\n",
       "       [-4.53809649e-02, -4.18807715e-02, -2.33129278e-01,\n",
       "        -6.80526942e-02,  7.72958398e-02,  7.57314861e-02,\n",
       "         1.58572197e-03, -1.22822694e-01,  1.93064332e-01,\n",
       "         1.07964456e-01],\n",
       "       [ 2.28633076e-01,  2.16669500e-01, -9.13664848e-02,\n",
       "         4.31923568e-03,  3.58770192e-02, -1.48535743e-01,\n",
       "         4.77565527e-02, -1.44307256e-01,  5.18240035e-02,\n",
       "         1.89738691e-01],\n",
       "       [-2.93141603e-03, -2.17928052e-01, -1.54065937e-02,\n",
       "        -1.43068269e-01,  1.65024638e-01,  3.01465392e-02,\n",
       "         8.30456316e-02,  6.07865751e-02, -1.86040074e-01,\n",
       "         1.83514416e-01],\n",
       "       [ 2.14260906e-01,  6.09123409e-02, -8.41610581e-02,\n",
       "         1.54286295e-01,  1.66694403e-01,  3.73019874e-02,\n",
       "         2.18130738e-01,  2.04984248e-01,  1.93353295e-02,\n",
       "        -2.15738997e-01],\n",
       "       [-2.02349111e-01, -6.08169138e-02, -6.28701448e-02,\n",
       "        -1.21731207e-01,  7.15038478e-02,  1.09042436e-01,\n",
       "         2.18284369e-01, -1.89943045e-01,  2.32618839e-01,\n",
       "        -2.84189433e-02],\n",
       "       [ 4.79851961e-02,  3.66686285e-03,  1.27708048e-01,\n",
       "        -1.08795643e-01,  1.99679375e-01,  1.24824703e-01,\n",
       "         2.31066853e-01,  8.20554197e-02, -1.06561989e-01,\n",
       "         1.65472090e-01],\n",
       "       [-1.69888347e-01,  6.69933856e-02, -9.23282951e-02,\n",
       "         5.16043603e-03,  5.85463941e-02,  1.80714488e-01,\n",
       "        -1.96521491e-01,  6.87787235e-02,  9.62480605e-02,\n",
       "        -1.62892193e-02],\n",
       "       [ 2.57542431e-02, -1.26735389e-01,  4.66454625e-02,\n",
       "        -1.13759071e-01, -8.70468616e-02, -1.52162731e-01,\n",
       "         2.30193853e-01, -1.65133774e-01,  2.00629234e-04,\n",
       "        -1.67113781e-01],\n",
       "       [ 7.37805367e-02, -6.37666434e-02, -1.23143427e-01,\n",
       "         5.51545322e-02, -4.53767329e-02, -9.94784385e-02,\n",
       "        -5.21807373e-03, -1.23249725e-01,  2.07487643e-02,\n",
       "         2.19159245e-01],\n",
       "       [-2.10810363e-01,  4.12696898e-02,  1.04629695e-01,\n",
       "         1.72935337e-01,  2.62335539e-02,  1.38691902e-01,\n",
       "         6.47689402e-03,  1.28344625e-01, -1.79792881e-01,\n",
       "         9.60102081e-02],\n",
       "       [ 1.32617027e-01,  1.72605872e-01, -1.86430365e-01,\n",
       "        -1.38121992e-01,  7.08596408e-02,  5.61530888e-03,\n",
       "        -1.18230663e-01, -1.90433860e-03,  2.25606859e-02,\n",
       "        -1.44155249e-01],\n",
       "       [-2.27067113e-01, -1.84245646e-01,  1.80395931e-01,\n",
       "        -1.14844106e-01, -1.94546700e-01,  1.13837540e-01,\n",
       "        -5.85316420e-02, -1.43499523e-02, -7.38014728e-02,\n",
       "        -3.84638011e-02],\n",
       "       [ 1.41972721e-01,  8.43019783e-02,  2.24357665e-01,\n",
       "         9.73254740e-02, -1.68606639e-03, -9.89416540e-02,\n",
       "        -1.14886589e-01,  1.84327781e-01,  1.60066813e-01,\n",
       "        -5.74114770e-02],\n",
       "       [-6.69410825e-03,  1.91477358e-01, -1.70068473e-01,\n",
       "        -1.85958669e-01, -2.00264871e-01, -1.80274978e-01,\n",
       "        -1.62989050e-01,  1.53032213e-01, -3.79711390e-03,\n",
       "         1.66027248e-01],\n",
       "       [ 2.09331930e-01, -1.22258574e-01, -5.89680821e-02,\n",
       "         1.60118043e-01, -4.88639176e-02,  8.41639340e-02,\n",
       "        -4.89332974e-02, -7.18815327e-02,  1.29219741e-02,\n",
       "         2.17814118e-01],\n",
       "       [ 4.48485315e-02, -5.36996126e-02, -4.22590673e-02,\n",
       "        -2.03624859e-01,  1.53466254e-01, -3.97938341e-02,\n",
       "        -7.86266476e-02, -1.94887266e-01, -6.58405423e-02,\n",
       "        -2.22889423e-01],\n",
       "       [-1.22533090e-01,  7.30593503e-02,  1.33803695e-01,\n",
       "         3.43097150e-02,  2.06823260e-01,  7.16233253e-03,\n",
       "         7.41238296e-02, -8.81311148e-02, -6.07762635e-02,\n",
       "        -2.32307747e-01],\n",
       "       [ 8.70111585e-02, -5.98861277e-03, -2.03393057e-01,\n",
       "        -2.04088986e-02, -2.73689926e-02, -1.95156932e-02,\n",
       "        -1.42094433e-01, -8.46066773e-02, -1.50391579e-01,\n",
       "         1.44762903e-01],\n",
       "       [ 6.16092682e-02, -9.26920623e-02,  2.77394056e-03,\n",
       "         3.01366448e-02,  2.13512242e-01, -1.29762977e-01,\n",
       "        -6.95310086e-02, -1.91766143e-01,  1.61755681e-02,\n",
       "        -1.46211684e-03],\n",
       "       [-1.21087790e-01, -9.05126035e-02,  2.27772892e-02,\n",
       "         5.61712086e-02,  2.16594458e-01,  1.18983537e-01,\n",
       "         5.12416065e-02,  1.83529735e-01,  7.61258602e-03,\n",
       "         2.73419321e-02],\n",
       "       [ 1.31684959e-01,  1.13892108e-01, -6.89327717e-05,\n",
       "        -3.12240124e-02, -1.85514659e-01, -1.17172025e-01,\n",
       "        -1.55471265e-03,  2.15481132e-01, -5.04921824e-02,\n",
       "        -2.01916799e-01],\n",
       "       [ 1.96097016e-01,  1.71358377e-01,  1.23265594e-01,\n",
       "        -6.21888638e-02, -1.81472301e-02,  1.70475960e-01,\n",
       "         3.45531106e-02, -5.60134649e-05,  1.07216209e-01,\n",
       "         1.95441067e-01],\n",
       "       [-1.10427916e-01, -1.73255354e-01, -3.50661576e-03,\n",
       "         4.72349226e-02, -2.31892064e-01,  7.24850893e-02,\n",
       "        -5.99355102e-02, -7.55400956e-03,  3.40096354e-02,\n",
       "         2.01944470e-01],\n",
       "       [ 9.24796462e-02, -9.21147466e-02,  3.39571834e-02,\n",
       "         2.97528803e-02,  1.14200741e-01, -1.17124081e-01,\n",
       "         1.89864367e-01, -7.74455070e-03, -1.09991036e-01,\n",
       "         1.61205977e-01],\n",
       "       [-2.12588921e-01,  1.94121897e-01,  1.42748475e-01,\n",
       "         2.33174860e-02,  9.26335454e-02, -5.33160120e-02,\n",
       "         1.32831961e-01, -8.37007761e-02,  1.77909195e-01,\n",
       "        -1.37560099e-01],\n",
       "       [ 1.42700762e-01, -2.07567573e-01, -1.09181300e-01,\n",
       "         1.74330592e-01,  5.55472076e-02,  1.43956810e-01,\n",
       "         7.30074942e-02,  1.63999140e-01, -9.36444700e-02,\n",
       "        -3.95864248e-02],\n",
       "       [ 1.75217658e-01,  1.38998657e-01, -4.12641317e-02,\n",
       "        -1.18736818e-01, -1.31644160e-01, -1.52694508e-01,\n",
       "         3.53945196e-02, -1.50727749e-01, -1.90586448e-02,\n",
       "        -2.05467895e-01],\n",
       "       [ 1.70121312e-01,  2.19837576e-01,  1.62151605e-02,\n",
       "         1.23447955e-01,  2.32653201e-01,  1.24005824e-01,\n",
       "         9.98030007e-02,  1.39994770e-01, -1.59498483e-01,\n",
       "        -7.09368289e-02],\n",
       "       [ 2.25818336e-01, -2.09708408e-01, -2.85926759e-02,\n",
       "        -1.54137760e-02, -5.32362759e-02,  1.32927567e-01,\n",
       "        -4.07368839e-02,  1.82924688e-01,  1.21904105e-01,\n",
       "         2.47720778e-02],\n",
       "       [ 4.01027501e-02,  6.91468418e-02, -4.47831601e-02,\n",
       "        -2.26727173e-01, -8.84500593e-02, -1.60447091e-01,\n",
       "        -1.81410298e-01,  9.18806493e-02, -2.22748488e-01,\n",
       "        -2.05665067e-01],\n",
       "       [ 1.67193145e-01,  1.12014979e-01,  1.44922882e-02,\n",
       "        -1.05440021e-02,  1.96276426e-01,  1.58651650e-01,\n",
       "        -2.78015286e-02,  1.08395010e-01, -1.92602158e-01,\n",
       "         9.10072923e-02],\n",
       "       [-1.61903962e-01,  1.67999864e-01, -4.52456623e-02,\n",
       "         2.26458728e-01, -1.57754540e-01, -6.04814738e-02,\n",
       "         2.53142416e-02, -1.27873987e-01, -9.56904143e-02,\n",
       "        -1.99719399e-01],\n",
       "       [ 1.27499640e-01, -8.65721703e-02,  2.14587420e-01,\n",
       "         1.42081022e-01, -8.83731544e-02, -1.96942687e-02,\n",
       "        -1.68978378e-01, -1.60311386e-01,  1.84353620e-01,\n",
       "         1.29670441e-01],\n",
       "       [-1.66566551e-01,  4.19049263e-02,  4.34665978e-02,\n",
       "        -1.52430743e-01, -9.95613486e-02, -1.21377952e-01,\n",
       "         1.46219403e-01, -2.29178041e-01,  1.73914403e-01,\n",
       "        -4.83150035e-02],\n",
       "       [-1.19695559e-01,  5.66804409e-03, -2.05167383e-01,\n",
       "        -1.74160302e-01,  2.25387573e-01,  1.93734676e-01,\n",
       "         2.98527777e-02,  2.35514045e-02,  1.39344990e-01,\n",
       "         2.28968620e-01],\n",
       "       [-3.58220041e-02,  1.58683270e-01,  4.71246243e-02,\n",
       "         3.23987901e-02,  5.17392159e-03,  2.76902318e-02,\n",
       "         1.99065000e-01,  5.29171526e-02,  1.42989010e-02,\n",
       "        -8.09611380e-02],\n",
       "       [ 1.87223494e-01,  3.03379297e-02, -1.28406823e-01,\n",
       "        -5.37693799e-02,  1.71344548e-01,  1.79328263e-01,\n",
       "         5.87128401e-02,  7.52553046e-02, -1.80319473e-01,\n",
       "        -1.18015453e-01],\n",
       "       [ 3.09084058e-02,  1.35942459e-01, -2.04305798e-01,\n",
       "        -5.09334207e-02,  2.24296570e-01, -6.22682273e-03,\n",
       "         4.19323742e-02,  1.51729316e-01, -2.09820271e-02,\n",
       "         2.17303395e-01],\n",
       "       [ 1.72308266e-01,  6.45199716e-02,  1.03602171e-01,\n",
       "        -1.05804652e-02,  8.23110044e-02, -8.06868076e-03,\n",
       "        -4.11728024e-03,  1.97632790e-01,  1.54992133e-01,\n",
       "         8.35141838e-02],\n",
       "       [ 1.33578569e-01,  8.62614512e-02,  2.27426261e-01,\n",
       "         1.86753869e-01, -1.22292928e-01, -1.26896933e-01,\n",
       "        -9.84448642e-02, -2.12607026e-01,  1.70375347e-01,\n",
       "         2.97876298e-02],\n",
       "       [-1.03117794e-01, -1.29181802e-01,  1.85129225e-01,\n",
       "        -2.86836624e-02, -1.98880985e-01,  1.83055490e-01,\n",
       "         2.27016270e-01, -1.20276667e-01,  2.09477365e-01,\n",
       "        -4.73180562e-02]], dtype=float32)"
      ]
     },
     "execution_count": 41,
     "metadata": {},
     "output_type": "execute_result"
    }
   ],
   "source": [
    "weights3"
   ]
  },
  {
   "cell_type": "code",
   "execution_count": 42,
   "id": "a4a58a4c",
   "metadata": {},
   "outputs": [
    {
     "data": {
      "text/plain": [
       "array([0., 0., 0., 0., 0., 0., 0., 0., 0., 0.], dtype=float32)"
      ]
     },
     "execution_count": 42,
     "metadata": {},
     "output_type": "execute_result"
    }
   ],
   "source": [
    "biases3"
   ]
  },
  {
   "cell_type": "code",
   "execution_count": 43,
   "id": "49f9e57a",
   "metadata": {},
   "outputs": [
    {
     "data": {
      "text/plain": [
       "array([[1., 0., 0., 0., 0., 0., 0., 0., 0., 0.],\n",
       "       [0., 0., 0., 0., 0., 1., 0., 0., 0., 0.],\n",
       "       [0., 1., 0., 0., 0., 0., 0., 0., 0., 0.],\n",
       "       [1., 0., 0., 0., 0., 0., 0., 0., 0., 0.]], dtype=float32)"
      ]
     },
     "execution_count": 43,
     "metadata": {},
     "output_type": "execute_result"
    }
   ],
   "source": [
    "# extra code - how to convert class ids to one-hot vectors\n",
    "tf.keras.utils.to_categorical([0, 5, 1, 0], num_classes=10)"
   ]
  },
  {
   "cell_type": "code",
   "execution_count": 44,
   "id": "7b0a2fd6",
   "metadata": {},
   "outputs": [],
   "source": [
    "model.compile(loss=tf.keras.losses.sparse_categorical_crossentropy,\n",
    "              optimizer=tf.keras.optimizers.SGD(),\n",
    "              metrics=[tf.keras.metrics.sparse_categorical_accuracy])"
   ]
  },
  {
   "cell_type": "code",
   "execution_count": 45,
   "id": "e191ce87",
   "metadata": {},
   "outputs": [
    {
     "name": "stdout",
     "output_type": "stream",
     "text": [
      "Epoch 1/30\n",
      "1719/1719 [==============================] - 5s 3ms/step - loss: 0.7183 - sparse_categorical_accuracy: 0.7628 - val_loss: 0.5077 - val_sparse_categorical_accuracy: 0.8280\n",
      "Epoch 2/30\n",
      "1719/1719 [==============================] - 5s 3ms/step - loss: 0.4903 - sparse_categorical_accuracy: 0.8304 - val_loss: 0.4665 - val_sparse_categorical_accuracy: 0.8288\n",
      "Epoch 3/30\n",
      "1719/1719 [==============================] - 5s 3ms/step - loss: 0.4426 - sparse_categorical_accuracy: 0.8445 - val_loss: 0.4228 - val_sparse_categorical_accuracy: 0.8500\n",
      "Epoch 4/30\n",
      "1719/1719 [==============================] - 5s 3ms/step - loss: 0.4175 - sparse_categorical_accuracy: 0.8547 - val_loss: 0.3980 - val_sparse_categorical_accuracy: 0.8572\n",
      "Epoch 5/30\n",
      "1719/1719 [==============================] - 5s 3ms/step - loss: 0.3964 - sparse_categorical_accuracy: 0.8615 - val_loss: 0.3938 - val_sparse_categorical_accuracy: 0.8592\n",
      "Epoch 6/30\n",
      "1719/1719 [==============================] - 5s 3ms/step - loss: 0.3801 - sparse_categorical_accuracy: 0.8666 - val_loss: 0.3949 - val_sparse_categorical_accuracy: 0.8624\n",
      "Epoch 7/30\n",
      "1719/1719 [==============================] - 5s 3ms/step - loss: 0.3671 - sparse_categorical_accuracy: 0.8700 - val_loss: 0.3701 - val_sparse_categorical_accuracy: 0.8696\n",
      "Epoch 8/30\n",
      "1719/1719 [==============================] - 5s 3ms/step - loss: 0.3556 - sparse_categorical_accuracy: 0.8744 - val_loss: 0.3752 - val_sparse_categorical_accuracy: 0.8610\n",
      "Epoch 9/30\n",
      "1719/1719 [==============================] - 5s 3ms/step - loss: 0.3448 - sparse_categorical_accuracy: 0.8779 - val_loss: 0.3461 - val_sparse_categorical_accuracy: 0.8762\n",
      "Epoch 10/30\n",
      "1719/1719 [==============================] - 5s 3ms/step - loss: 0.3343 - sparse_categorical_accuracy: 0.8805 - val_loss: 0.3462 - val_sparse_categorical_accuracy: 0.8756\n",
      "Epoch 11/30\n",
      "1719/1719 [==============================] - 5s 3ms/step - loss: 0.3253 - sparse_categorical_accuracy: 0.8848 - val_loss: 0.3778 - val_sparse_categorical_accuracy: 0.8618\n",
      "Epoch 12/30\n",
      "1719/1719 [==============================] - 5s 3ms/step - loss: 0.3177 - sparse_categorical_accuracy: 0.8867 - val_loss: 0.3468 - val_sparse_categorical_accuracy: 0.8702\n",
      "Epoch 13/30\n",
      "1719/1719 [==============================] - 5s 3ms/step - loss: 0.3104 - sparse_categorical_accuracy: 0.8900 - val_loss: 0.3275 - val_sparse_categorical_accuracy: 0.8788\n",
      "Epoch 14/30\n",
      "1719/1719 [==============================] - 5s 3ms/step - loss: 0.3029 - sparse_categorical_accuracy: 0.8914 - val_loss: 0.3390 - val_sparse_categorical_accuracy: 0.8804\n",
      "Epoch 15/30\n",
      "1719/1719 [==============================] - 5s 3ms/step - loss: 0.2972 - sparse_categorical_accuracy: 0.8934 - val_loss: 0.3354 - val_sparse_categorical_accuracy: 0.8790\n",
      "Epoch 16/30\n",
      "1719/1719 [==============================] - 5s 3ms/step - loss: 0.2901 - sparse_categorical_accuracy: 0.8958 - val_loss: 0.3305 - val_sparse_categorical_accuracy: 0.8772\n",
      "Epoch 17/30\n",
      "1719/1719 [==============================] - 5s 3ms/step - loss: 0.2851 - sparse_categorical_accuracy: 0.8963 - val_loss: 0.3289 - val_sparse_categorical_accuracy: 0.8750\n",
      "Epoch 18/30\n",
      "1719/1719 [==============================] - 5s 3ms/step - loss: 0.2793 - sparse_categorical_accuracy: 0.8994 - val_loss: 0.3210 - val_sparse_categorical_accuracy: 0.8814\n",
      "Epoch 19/30\n",
      "1719/1719 [==============================] - 5s 3ms/step - loss: 0.2744 - sparse_categorical_accuracy: 0.9007 - val_loss: 0.3587 - val_sparse_categorical_accuracy: 0.8638\n",
      "Epoch 20/30\n",
      "1719/1719 [==============================] - 5s 3ms/step - loss: 0.2698 - sparse_categorical_accuracy: 0.9029 - val_loss: 0.3207 - val_sparse_categorical_accuracy: 0.8806\n",
      "Epoch 21/30\n",
      "1719/1719 [==============================] - 5s 3ms/step - loss: 0.2648 - sparse_categorical_accuracy: 0.9038 - val_loss: 0.3170 - val_sparse_categorical_accuracy: 0.8846\n",
      "Epoch 22/30\n",
      "1719/1719 [==============================] - 5s 3ms/step - loss: 0.2596 - sparse_categorical_accuracy: 0.9059 - val_loss: 0.3119 - val_sparse_categorical_accuracy: 0.8866\n",
      "Epoch 23/30\n",
      "1719/1719 [==============================] - 5s 3ms/step - loss: 0.2553 - sparse_categorical_accuracy: 0.9087 - val_loss: 0.3435 - val_sparse_categorical_accuracy: 0.8716\n",
      "Epoch 24/30\n",
      "1719/1719 [==============================] - 5s 3ms/step - loss: 0.2499 - sparse_categorical_accuracy: 0.9107 - val_loss: 0.3204 - val_sparse_categorical_accuracy: 0.8808\n",
      "Epoch 25/30\n",
      "1719/1719 [==============================] - 5s 3ms/step - loss: 0.2460 - sparse_categorical_accuracy: 0.9121 - val_loss: 0.3190 - val_sparse_categorical_accuracy: 0.8818\n",
      "Epoch 26/30\n",
      "1719/1719 [==============================] - 5s 3ms/step - loss: 0.2426 - sparse_categorical_accuracy: 0.9135 - val_loss: 0.3090 - val_sparse_categorical_accuracy: 0.8856\n",
      "Epoch 27/30\n",
      "1719/1719 [==============================] - 5s 3ms/step - loss: 0.2371 - sparse_categorical_accuracy: 0.9145 - val_loss: 0.3167 - val_sparse_categorical_accuracy: 0.8834\n",
      "Epoch 28/30\n",
      "1719/1719 [==============================] - 5s 3ms/step - loss: 0.2346 - sparse_categorical_accuracy: 0.9161 - val_loss: 0.3137 - val_sparse_categorical_accuracy: 0.8864\n",
      "Epoch 29/30\n",
      "1719/1719 [==============================] - 5s 3ms/step - loss: 0.2301 - sparse_categorical_accuracy: 0.9174 - val_loss: 0.3185 - val_sparse_categorical_accuracy: 0.8854\n",
      "Epoch 30/30\n",
      "1719/1719 [==============================] - 5s 3ms/step - loss: 0.2269 - sparse_categorical_accuracy: 0.9183 - val_loss: 0.3080 - val_sparse_categorical_accuracy: 0.8874\n"
     ]
    }
   ],
   "source": [
    "history = model.fit(X_train, y_train, \n",
    "                    epochs=30, \n",
    "                    validation_data=(X_valid, y_valid))"
   ]
  },
  {
   "cell_type": "code",
   "execution_count": 46,
   "id": "8da83e3c",
   "metadata": {},
   "outputs": [
    {
     "data": {
      "text/plain": [
       "{'verbose': 1, 'epochs': 30, 'steps': 1719}"
      ]
     },
     "execution_count": 46,
     "metadata": {},
     "output_type": "execute_result"
    }
   ],
   "source": [
    "history.params"
   ]
  },
  {
   "cell_type": "code",
   "execution_count": 47,
   "id": "18e56be0",
   "metadata": {},
   "outputs": [
    {
     "data": {
      "text/plain": [
       "[0,\n",
       " 1,\n",
       " 2,\n",
       " 3,\n",
       " 4,\n",
       " 5,\n",
       " 6,\n",
       " 7,\n",
       " 8,\n",
       " 9,\n",
       " 10,\n",
       " 11,\n",
       " 12,\n",
       " 13,\n",
       " 14,\n",
       " 15,\n",
       " 16,\n",
       " 17,\n",
       " 18,\n",
       " 19,\n",
       " 20,\n",
       " 21,\n",
       " 22,\n",
       " 23,\n",
       " 24,\n",
       " 25,\n",
       " 26,\n",
       " 27,\n",
       " 28,\n",
       " 29]"
      ]
     },
     "execution_count": 47,
     "metadata": {},
     "output_type": "execute_result"
    }
   ],
   "source": [
    "history.epoch"
   ]
  },
  {
   "cell_type": "code",
   "execution_count": null,
   "id": "d1769b96",
   "metadata": {},
   "outputs": [],
   "source": [
    "plt.plot(history.history['sparse_categorical_accuracy'])\n",
    "plt.plot(history.history['val_sparse_categorical_accuracy'])\n",
    "plt.title('model accuracy')\n",
    "plt.ylabel('accuracy')\n",
    "plt.xlabel('epoch')\n",
    "plt.legend(['train', 'valid'], loc='upper left')\n",
    "plt.show()"
   ]
  },
  {
   "cell_type": "code",
   "execution_count": 48,
   "id": "1b8a994c",
   "metadata": {},
   "outputs": [
    {
     "data": {
      "image/png": "[encoded data removed]",
      "text/plain": [
       "<Figure size 432x288 with 1 Axes>"
      ]
     },
     "metadata": {
      "needs_background": "light"
     },
     "output_type": "display_data"
    }
   ],
   "source": [
    "plt.plot(history.history['loss'])\n",
    "plt.plot(history.history['val_loss'])\n",
    "plt.title('model loss')\n",
    "plt.ylabel('loss')\n",
    "plt.xlabel('epoch')\n",
    "plt.legend(['train', 'valid'], loc='upper left')\n",
    "plt.show()"
   ]
  },
  {
   "cell_type": "code",
   "execution_count": 49,
   "id": "a50bee81",
   "metadata": {},
   "outputs": [
    {
     "name": "stdout",
     "output_type": "stream",
     "text": [
      "313/313 [==============================] - 1s 2ms/step - loss: 0.3308 - sparse_categorical_accuracy: 0.8844\n"
     ]
    },
    {
     "data": {
      "text/plain": [
       "[0.3307848274707794, 0.8844000101089478]"
      ]
     },
     "execution_count": 49,
     "metadata": {},
     "output_type": "execute_result"
    }
   ],
   "source": [
    "model.evaluate(X_test, y_test)"
   ]
  },
  {
   "cell_type": "code",
   "execution_count": 53,
   "id": "ac504554",
   "metadata": {},
   "outputs": [
    {
     "name": "stdout",
     "output_type": "stream",
     "text": [
      "79/79 [==============================] - 0s 2ms/step - loss: 0.3308 - sparse_categorical_accuracy: 0.8844\n",
      "test loss: 0.33078473806381226\n",
      "test acc: 0.8844000101089478\n"
     ]
    }
   ],
   "source": [
    "results = model.evaluate(X_test, y_test, batch_size=128)\n",
    "print(\"test loss:\", results[0])\n",
    "print(\"test acc:\", results[1])"
   ]
  },
  {
   "cell_type": "code",
   "execution_count": 54,
   "id": "980f01c5",
   "metadata": {},
   "outputs": [
    {
     "name": "stdout",
     "output_type": "stream",
     "text": [
      "1/1 [==============================] - 0s 86ms/step\n"
     ]
    }
   ],
   "source": [
    "X_new = X_test[:5]\n",
    "y_proba = model.predict(X_new)"
   ]
  },
  {
   "cell_type": "code",
   "execution_count": 55,
   "id": "edf1ce0d",
   "metadata": {},
   "outputs": [
    {
     "data": {
      "text/plain": [
       "array([9, 2, 1, 1, 6])"
      ]
     },
     "execution_count": 55,
     "metadata": {},
     "output_type": "execute_result"
    }
   ],
   "source": [
    "y_pred = y_proba.argmax(axis=-1)\n",
    "y_pred"
   ]
  },
  {
   "cell_type": "code",
   "execution_count": 56,
   "id": "35199030",
   "metadata": {},
   "outputs": [
    {
     "data": {
      "text/plain": [
       "array(['Ankle boot', 'Pullover', 'Trouser', 'Trouser', 'Shirt'],\n",
       "      dtype='<U11')"
      ]
     },
     "execution_count": 56,
     "metadata": {},
     "output_type": "execute_result"
    }
   ],
   "source": [
    "np.array(class_names)[y_pred]"
   ]
  },
  {
   "cell_type": "code",
   "execution_count": 57,
   "id": "5031ddc1",
   "metadata": {},
   "outputs": [
    {
     "data": {
      "text/plain": [
       "array([9, 2, 1, 1, 6], dtype=uint8)"
      ]
     },
     "execution_count": 57,
     "metadata": {},
     "output_type": "execute_result"
    }
   ],
   "source": [
    "y_new = y_test[:5]\n",
    "y_new"
   ]
  },
  {
   "cell_type": "code",
   "execution_count": 58,
   "id": "4b766283",
   "metadata": {},
   "outputs": [
    {
     "data": {
      "image/png": "[encoded data removed]",
      "text/plain": [
       "<Figure size 518.4x172.8 with 5 Axes>"
      ]
     },
     "metadata": {
      "needs_background": "light"
     },
     "output_type": "display_data"
    }
   ],
   "source": [
    "plt.figure(figsize=(7.2, 2.4))\n",
    "\n",
    "for index, image in enumerate(X_new):\n",
    "    plt.subplot(1, 5, index + 1)\n",
    "    plt.imshow(image, cmap=\"binary\", interpolation=\"nearest\")\n",
    "    plt.axis('off')\n",
    "    plt.title(class_names[y_test[index]])\n",
    "    \n",
    "plt.subplots_adjust(wspace=0.2, hspace=0.5)\n",
    "plt.show()"
   ]
  },
  {
   "cell_type": "code",
   "execution_count": 59,
   "id": "10da3f2f",
   "metadata": {},
   "outputs": [],
   "source": [
    "import shutil\n",
    "\n",
    "shutil.rmtree(\"my_keras_model\", ignore_errors=True)"
   ]
  },
  {
   "cell_type": "code",
   "execution_count": 60,
   "id": "91807641",
   "metadata": {},
   "outputs": [
    {
     "name": "stderr",
     "output_type": "stream",
     "text": [
      "WARNING:absl:Found untraced functions such as _update_step_xla while saving (showing 1 of 1). These functions will not be directly callable after loading.\n"
     ]
    },
    {
     "name": "stdout",
     "output_type": "stream",
     "text": [
      "INFO:tensorflow:Assets written to: my_keras_model/assets\n"
     ]
    },
    {
     "name": "stderr",
     "output_type": "stream",
     "text": [
      "INFO:tensorflow:Assets written to: my_keras_model/assets\n"
     ]
    }
   ],
   "source": [
    "model.save(\"my_keras_model\", save_format=\"tf\")"
   ]
  },
  {
   "cell_type": "code",
   "execution_count": 61,
   "id": "270a2002",
   "metadata": {},
   "outputs": [],
   "source": [
    "model.save_weights(\"my_weights\")"
   ]
  },
  {
   "cell_type": "code",
   "execution_count": 62,
   "id": "28588c95",
   "metadata": {},
   "outputs": [
    {
     "name": "stdout",
     "output_type": "stream",
     "text": [
      "my_keras_model/assets\n",
      "my_keras_model/fingerprint.pb\n",
      "my_keras_model/keras_metadata.pb\n",
      "my_keras_model/saved_model.pb\n",
      "my_keras_model/variables\n",
      "my_keras_model/variables/variables.data-00000-of-00001\n",
      "my_keras_model/variables/variables.index\n"
     ]
    }
   ],
   "source": [
    "for path in sorted(Path(\"my_keras_model\").glob(\"**/*\")):\n",
    "    print(path)"
   ]
  },
  {
   "cell_type": "code",
   "execution_count": 63,
   "id": "28d7851a",
   "metadata": {},
   "outputs": [
    {
     "name": "stdout",
     "output_type": "stream",
     "text": [
      "my_weights.data-00000-of-00001\n",
      "my_weights.index\n"
     ]
    }
   ],
   "source": [
    "for path in sorted(Path().glob(\"my_weights.*\")):\n",
    "    print(path)"
   ]
  },
  {
   "cell_type": "code",
   "execution_count": null,
   "id": "b55e567d",
   "metadata": {},
   "outputs": [],
   "source": []
  },
  {
   "cell_type": "code",
   "execution_count": null,
   "id": "2623eb8e",
   "metadata": {},
   "outputs": [],
   "source": [
    "# Inference model"
   ]
  },
  {
   "cell_type": "code",
   "execution_count": 64,
   "id": "46446751",
   "metadata": {},
   "outputs": [],
   "source": [
    "model = tf.keras.models.load_model(\"my_keras_model\")"
   ]
  },
  {
   "cell_type": "code",
   "execution_count": 65,
   "id": "be4a13ec",
   "metadata": {},
   "outputs": [
    {
     "data": {
      "text/plain": [
       "<tensorflow.python.checkpoint.checkpoint.CheckpointLoadStatus at 0x7efe4eb66e10>"
      ]
     },
     "execution_count": 65,
     "metadata": {},
     "output_type": "execute_result"
    }
   ],
   "source": [
    "model.load_weights(\"my_weights\")"
   ]
  },
  {
   "cell_type": "code",
   "execution_count": 72,
   "id": "976ccd8a",
   "metadata": {},
   "outputs": [
    {
     "name": "stdout",
     "output_type": "stream",
     "text": [
      "1/1 [==============================] - 0s 65ms/step\n"
     ]
    },
    {
     "data": {
      "text/plain": [
       "array(['Sandal'], dtype='<U11')"
      ]
     },
     "execution_count": 72,
     "metadata": {},
     "output_type": "execute_result"
    }
   ],
   "source": [
    "y_proba = model.predict(X_test[-1])\n",
    "y_pred = y_proba.argmax(axis=-1)\n",
    "np.array(class_names)[y_pred]"
   ]
  },
  {
   "cell_type": "code",
   "execution_count": null,
   "id": "21a6dabc",
   "metadata": {},
   "outputs": [],
   "source": []
  }
 ],
 "metadata": {
  "kernelspec": {
   "display_name": "Python 3",
   "language": "python",
   "name": "python3"
  },
  "language_info": {
   "codemirror_mode": {
    "name": "ipython",
    "version": 3
   },
   "file_extension": ".py",
   "mimetype": "text/x-python",
   "name": "python",
   "nbconvert_exporter": "python",
   "pygments_lexer": "ipython3",
   "version": "3.7.3"
  }
 },
 "nbformat": 4,
 "nbformat_minor": 5
}
